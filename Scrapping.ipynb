{
  "nbformat": 4,
  "nbformat_minor": 0,
  "metadata": {
    "colab": {
      "provenance": [],
      "mount_file_id": "1XQ9gup0CKeFDKgm7bqJdrxyF3MwlvveL",
      "authorship_tag": "ABX9TyNps5YTpMv+ZGPfIklpigRU",
      "include_colab_link": true
    },
    "kernelspec": {
      "name": "python3",
      "display_name": "Python 3"
    },
    "language_info": {
      "name": "python"
    }
  },
  "cells": [
    {
      "cell_type": "markdown",
      "metadata": {
        "id": "view-in-github",
        "colab_type": "text"
      },
      "source": [
        "<a href=\"https://colab.research.google.com/github/PepiMartin28/FootballLogos-VAE/blob/develop/Scrapping.ipynb\" target=\"_parent\"><img src=\"https://colab.research.google.com/assets/colab-badge.svg\" alt=\"Open In Colab\"/></a>"
      ]
    },
    {
      "cell_type": "markdown",
      "source": [
        "#Notebook utilizada para realizar el scrrping de los logos de los equipos\n"
      ],
      "metadata": {
        "id": "bBR1vREHIV5r"
      }
    },
    {
      "cell_type": "code",
      "execution_count": null,
      "metadata": {
        "id": "NRJ9nckmSTdY"
      },
      "outputs": [],
      "source": [
        "import re\n",
        "import requests\n",
        "import os\n",
        "import csv\n",
        "import openpyxl"
      ]
    },
    {
      "cell_type": "code",
      "source": [
        "origin_path = '/content/logos'\n",
        "os.makedirs(origin_path, exist_ok=True)"
      ],
      "metadata": {
        "id": "o8GZeZkmnPCU"
      },
      "execution_count": null,
      "outputs": []
    },
    {
      "cell_type": "markdown",
      "source": [
        "Para archivo csv"
      ],
      "metadata": {
        "id": "V9bh_UKKo3CM"
      }
    },
    {
      "cell_type": "code",
      "source": [
        "file_path = \"/content/logos/logos-teams.csv\"\n",
        "columns_name = [\"id\",\"img_dir\", \"name\", \"league\"]"
      ],
      "metadata": {
        "id": "iP8ho9tGEu--"
      },
      "execution_count": null,
      "outputs": []
    },
    {
      "cell_type": "code",
      "source": [
        "with open(file_path, 'w', newline='') as csvfile:\n",
        "  escritor_csv = csv.writer(csvfile)\n",
        "  escritor_csv.writerow(columns_name)"
      ],
      "metadata": {
        "id": "vwt5v7LsE20g"
      },
      "execution_count": null,
      "outputs": []
    },
    {
      "cell_type": "markdown",
      "source": [
        "Para archivo xlsx"
      ],
      "metadata": {
        "id": "VefJQShxo5Zm"
      }
    },
    {
      "cell_type": "code",
      "source": [
        "file_path = \"/content/logos-teams.xlsx\"\n",
        "libro_trabajo = openpyxl.Workbook()\n",
        "hoja_activa = libro_trabajo.active"
      ],
      "metadata": {
        "id": "-hAauFFdoAb1"
      },
      "execution_count": null,
      "outputs": []
    },
    {
      "cell_type": "code",
      "source": [
        "# hoja_activa.append(columns_name)\n",
        "libro_trabajo.save(file_path)"
      ],
      "metadata": {
        "id": "HXDsuH9mneRJ"
      },
      "execution_count": null,
      "outputs": []
    },
    {
      "cell_type": "markdown",
      "source": [
        "#Scrapping de los escudos de equipos"
      ],
      "metadata": {
        "id": "iFgMoj3LeSyH"
      }
    },
    {
      "cell_type": "code",
      "source": [
        "result = requests.get('https://pics.todoporelfutbol.com/escudos-de-clubes')\n",
        "content = result.text"
      ],
      "metadata": {
        "id": "IjyGyxTmXHhz"
      },
      "execution_count": null,
      "outputs": []
    },
    {
      "cell_type": "code",
      "source": [
        "regex_country = r'href=\"/escudos-de-clubes-de-(.*?)\"'\n",
        "regex_club = r'title=\"Escudo de (.*?)\">'\n",
        "download_regex = r'href=\"/download?(.*?)\" data-download'"
      ],
      "metadata": {
        "id": "y8hm4COLgFX-"
      },
      "execution_count": null,
      "outputs": []
    },
    {
      "cell_type": "code",
      "source": [
        "countries = re.findall(regex_country, str(content))"
      ],
      "metadata": {
        "id": "sEpUvS6KZ94-"
      },
      "execution_count": null,
      "outputs": []
    },
    {
      "cell_type": "markdown",
      "source": [
        "###Descargar los escudos de equipos"
      ],
      "metadata": {
        "id": "r0mDrgLyIj0i"
      }
    },
    {
      "cell_type": "code",
      "source": [
        "for idx in range(len(countries)):\n",
        "\n",
        "  if os.path.exists(f'{origin_path}/{countries[idx]}'):\n",
        "    continue\n",
        "\n",
        "  os.makedirs(f'{origin_path}/{countries[idx]}', exist_ok=True)\n",
        "\n",
        "  country_url = f'https://pics.todoporelfutbol.com/escudos-de-clubes-de-{countries[idx]}'\n",
        "  country_result = requests.get(country_url)\n",
        "\n",
        "  clubs = re.findall(regex_club, str(country_result.text))\n",
        "\n",
        "  download_url = re.findall(download_regex, str(country_result.text))\n",
        "\n",
        "  for index in range(len(clubs)):\n",
        "    image_url = f'https://pics.todoporelfutbol.com/download{download_url[index]}'\n",
        "\n",
        "    download_result = requests.get(image_url)\n",
        "\n",
        "    club_name = clubs[index].replace(\"/\", \" \")\n",
        "\n",
        "    club_name = club_name.replace(\"_\", \" \")\n",
        "\n",
        "    file_name = f'{origin_path}/{countries[idx]}/{club_name}({countries[idx].upper()}).png'\n",
        "\n",
        "    if download_result.status_code == 200:\n",
        "        with open(file_name, 'wb') as file:\n",
        "            file.write(download_result.content)\n",
        "    else:\n",
        "        print(f\"Error al descargar la imagen de {club_name}. Código de estado: {download_result.status_code}\")"
      ],
      "metadata": {
        "id": "6rnAIQaxl3xz"
      },
      "execution_count": null,
      "outputs": []
    },
    {
      "cell_type": "markdown",
      "source": [
        "###Cargar el archivo csv con la información de los clubes\n"
      ],
      "metadata": {
        "id": "t4LO3K1WImZZ"
      }
    },
    {
      "cell_type": "code",
      "source": [
        "id = 0\n",
        "\n",
        "for idx in range(len(countries)):\n",
        "\n",
        "  country_path=(f'/content/logos/{countries[idx]}')\n",
        "\n",
        "  country_url = f'https://pics.todoporelfutbol.com/escudos-de-clubes-de-{countries[idx]}'\n",
        "  country_result = requests.get(country_url)\n",
        "\n",
        "  clubs = re.findall(regex_club, str(country_result.text))\n",
        "\n",
        "  rows = []\n",
        "\n",
        "  for index in range(len(clubs)):\n",
        "\n",
        "    club_name = clubs[index].replace(\"/\", \" \")\n",
        "\n",
        "    club_name = club_name.replace(\"_\", \" \")\n",
        "\n",
        "    club_name_path = club_name.replace(\"'\", \"_\")\n",
        "\n",
        "    club_name_path = club_name_path.replace(\"&\", \"_\")\n",
        "\n",
        "    logo_path = f'{country_path}/{club_name_path}({countries[idx].upper()}).png'\n",
        "# Use la linea de abajo si quiere un archivo xlsx\n",
        "    hoja_activa.append([id,logo_path,club_name,countries[idx]])\n",
        "# Use el codigo de abajo si quiere el archivo csv\n",
        "  #   rows.append([id,logo_path,club_name,countries[idx]])\n",
        "\n",
        "  # with open(file_path, 'a', newline='') as csvfile:\n",
        "\n",
        "  #   escritor_csv = csv.writer(csvfile)\n",
        "\n",
        "  #   for row in rows:\n",
        "  #       escritor_csv.writerow(row)\n",
        "\n",
        "  id = id + 1"
      ],
      "metadata": {
        "id": "KlpxxReZE6bQ"
      },
      "execution_count": null,
      "outputs": []
    },
    {
      "cell_type": "markdown",
      "source": [
        "#Scrapping de los escudos de las selecciones\n"
      ],
      "metadata": {
        "id": "d78saR03eWrF"
      }
    },
    {
      "cell_type": "code",
      "source": [
        "result = requests.get('https://pics.todoporelfutbol.com/escudos-de-selecciones')\n",
        "content = result.text"
      ],
      "metadata": {
        "id": "k5NkBE_KelNN"
      },
      "execution_count": null,
      "outputs": []
    },
    {
      "cell_type": "code",
      "source": [
        "regex_continent = r'href=\"/escudos-de-selecciones-de-(.*?)\" role'\n",
        "regex_country = r'title=\"Logo de (.*?)\">'"
      ],
      "metadata": {
        "id": "iVBT57AYeqUE"
      },
      "execution_count": null,
      "outputs": []
    },
    {
      "cell_type": "code",
      "source": [
        "continents = re.findall(regex_continent, str(content))"
      ],
      "metadata": {
        "id": "L2lF3Xy3fe8d"
      },
      "execution_count": null,
      "outputs": []
    },
    {
      "cell_type": "markdown",
      "source": [
        "###Descargar los escudos de selecciones"
      ],
      "metadata": {
        "id": "HeSk3-StIykV"
      }
    },
    {
      "cell_type": "code",
      "source": [
        "for idx in range(len(continents)):\n",
        "\n",
        "  if os.path.exists(f'{origin_path}/{continents[idx]}'):\n",
        "    continue\n",
        "\n",
        "  os.makedirs(f'{origin_path}/{continents[idx]}', exist_ok=True)\n",
        "\n",
        "  country_url = f'https://pics.todoporelfutbol.com/escudos-de-selecciones-de-{continents[idx]}'\n",
        "  country_result = requests.get(country_url)\n",
        "\n",
        "  countries = re.findall(regex_country, str(country_result.text))\n",
        "\n",
        "  download_url = re.findall(download_regex, str(country_result.text))\n",
        "\n",
        "  for index in range(len(countries)):\n",
        "    image_url = f'https://pics.todoporelfutbol.com/download{download_url[index]}'\n",
        "\n",
        "    download_result = requests.get(image_url)\n",
        "\n",
        "    country_name = countries[index].replace(\"/\", \" \")\n",
        "\n",
        "    country_name = country_name.replace(\"_\", \" \")\n",
        "\n",
        "    file_name = f'{origin_path}/{continents[idx]}/{country_name}({continents[idx].upper()}).png'\n",
        "\n",
        "    if download_result.status_code == 200:\n",
        "        with open(file_name, 'wb') as file:\n",
        "            file.write(download_result.content)\n",
        "    else:\n",
        "        print(f\"Error al descargar la imagen de {countries[index]}. Código de estado: {download_result.status_code}\")"
      ],
      "metadata": {
        "id": "dsDAzlp8flwd"
      },
      "execution_count": null,
      "outputs": []
    },
    {
      "cell_type": "markdown",
      "source": [
        "###Cargar el archivo csv con la información de las selecciones"
      ],
      "metadata": {
        "id": "wnWpxtG9IsEL"
      }
    },
    {
      "cell_type": "code",
      "source": [
        "for idx in range(len(continents)):\n",
        "\n",
        "  continent_path=(f'/content/drive/MyDrive/Redes Neuronales/logos/{continents[idx]}')\n",
        "\n",
        "  country_url = f'https://pics.todoporelfutbol.com/escudos-de-selecciones-de-{continents[idx]}'\n",
        "  country_result = requests.get(country_url)\n",
        "\n",
        "  countries = re.findall(regex_country, str(country_result.text))\n",
        "\n",
        "  rows = []\n",
        "\n",
        "  for index in range(len(countries)):\n",
        "\n",
        "    country_name = countries[index].replace(\"/\", \" \")\n",
        "\n",
        "    country_name = country_name.replace(\"_\", \" \")\n",
        "\n",
        "    country_name_path = country_name.replace(\"&\", \"_\")\n",
        "\n",
        "    country_name_path = country_name_path.replace(\"'\", \"_\")\n",
        "\n",
        "    logo_path = f'{continent_path}/{country_name_path}({continents[idx].upper()}).png'\n",
        "# Use la linea de abajo si quiere un archivo xlsx\n",
        "    hoja_activa.append([id,logo_path,country_name,continents[idx]])\n",
        "# Use el codigo de abajo si quiere el archivo csv\n",
        "  #   rows.append([id,logo_path,country_name,continents[idx]])\n",
        "\n",
        "  # with open(file_path, 'a', newline='') as csvfile:\n",
        "\n",
        "  #   escritor_csv = csv.writer(csvfile)\n",
        "\n",
        "  #   for row in rows:\n",
        "  #       escritor_csv.writerow(row)\n",
        "\n",
        "  id = id + 1"
      ],
      "metadata": {
        "id": "i3NH4eWgE-2L"
      },
      "execution_count": null,
      "outputs": []
    }
  ]
}